{
  "nbformat": 4,
  "nbformat_minor": 0,
  "metadata": {
    "colab": {
      "provenance": []
    },
    "kernelspec": {
      "name": "python3",
      "display_name": "Python 3"
    },
    "language_info": {
      "name": "python"
    }
  },
  "cells": [
    {
      "cell_type": "code",
      "source": [
        "import pandas as pd\n",
        "from sklearn.model_selection import train_test_split\n",
        "from sklearn.ensemble import RandomForestClassifier\n",
        "from sklearn.metrics import accuracy_score,classification_report\n",
        "import warnings\n",
        "warnings.filterwarnings('ignore')\n",
        "student_performance=pd.read_csv('student_performance_dataset.csv')"
      ],
      "metadata": {
        "id": "dk9ZaxNaaYf1"
      },
      "execution_count": 22,
      "outputs": []
    },
    {
      "cell_type": "code",
      "source": [
        "student_performance=student_performance.rename(columns={'Internet_Access_at_Home':'Internet_Access','Study_Hours_per_Week':'Studytime','Attendance_Rate':'Attendance'})\n",
        "student_performance=student_performance.dropna(subset='Pass_Fail')\n",
        "x=student_performance[['Internet_Access','Studytime','Attendance']]\n",
        "y=student_performance['Pass_Fail']\n",
        "x.loc[:,'Internet_Access']=x['Internet_Access'].map({'Yes':1,'No':0})\n",
        "x.loc[:,'Studytime'].fillna(x['Studytime'].median(),inplace=True)\n",
        "x.loc[:,'Attendance'].fillna(x['Attendance'].median(),inplace=True)\n",
        "x_train,x_test,y_train,y_test=train_test_split(x,y,test_size=0.2,random_state=42)\n",
        "rf_classifier=RandomForestClassifier(random_state=42)\n",
        "rf_classifier.fit(x_train,y_train)\n",
        "y_pred=rf_classifier.predict(x_test)\n",
        "accuracy=accuracy_score(y_test,y_pred)\n",
        "classification_rep=classification_report(y_test,y_pred)\n",
        "print(f\"Acuuracy:{accuracy:2f}\")\n",
        "print(\"\\n Classifaction Report:\\n\",classification_rep)\n",
        "sample=x_test.iloc[0:1]\n",
        "prediction=rf_classifier.predict(sample)\n",
        "sample_dict=sample.iloc[0].to_dict()\n",
        "print(f\"\\n Sample Data:{sample_dict}\")\n",
        "print(f\"Predicted Result:{'Pass_Fail' if prediction[0]==1 else 'Failed'}\")"
      ],
      "metadata": {
        "colab": {
          "base_uri": "https://localhost:8080/"
        },
        "id": "by9UCLgRb7uo",
        "outputId": "0cdd7fa4-eb09-4c25-c0dd-8f23967aedb0"
      },
      "execution_count": 21,
      "outputs": [
        {
          "output_type": "stream",
          "name": "stdout",
          "text": [
            "Acuuracy:0.838028\n",
            "\n",
            " Classifaction Report:\n",
            "               precision    recall  f1-score   support\n",
            "\n",
            "        Fail       0.89      0.77      0.83        71\n",
            "        Pass       0.80      0.90      0.85        71\n",
            "\n",
            "    accuracy                           0.84       142\n",
            "   macro avg       0.84      0.84      0.84       142\n",
            "weighted avg       0.84      0.84      0.84       142\n",
            "\n",
            "\n",
            " Sample Data:{'Internet_Access': 0, 'Studytime': 14, 'Attendance': 54.33526059310918}\n",
            "Predicted Result:Failed\n"
          ]
        }
      ]
    }
  ]
}